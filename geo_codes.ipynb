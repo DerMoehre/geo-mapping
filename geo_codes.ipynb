{
 "cells": [
  {
   "cell_type": "code",
   "execution_count": 50,
   "metadata": {},
   "outputs": [],
   "source": [
    "import folium\n",
    "import requests\n",
    "import json\n",
    "\n",
    "# get outline of counties\n",
    "state_geo = requests.get(\n",
    "    \"https://raw.githubusercontent.com/isellsoap/deutschlandGeoJSON/main/2_bundeslaender/1_sehr_hoch.geo.json\"\n",
    ").json()\n",
    "\n",
    "# open geo data in JSON\n",
    "data = open('company.json')\n",
    "state_data = json.load(data)"
   ]
  },
  {
   "cell_type": "code",
   "execution_count": 54,
   "metadata": {},
   "outputs": [],
   "source": [
    "m = folium.Map(location=[51, 10], zoom_start=5)\n",
    "\n",
    "folium.Choropleth(\n",
    "    geo_data=state_geo,\n",
    "    name=\"choropleth\",\n",
    "    fill_opacity=0.3,\n",
    "    line_opacity=0.2,\n",
    ").add_to(m)\n",
    "\n",
    "folium.LayerControl().add_to(m)\n",
    "\n",
    "colors = {\n",
    "    'Area_1': 'red', 'Area_2': 'green', 'Area_3': 'purple', 'Area_4': 'darkgreen', 'Area_5': 'orange', \n",
    "    'Area_6': 'darkblue', 'Area_7': 'gray', 'Area_8': 'black', 'Area_9': 'lightred', 'Area_10': 'lightgreen'\n",
    "    }\n",
    "\n",
    "for location in state_data:\n",
    "    trail = []\n",
    "    for pin in state_data[location]:\n",
    "        trail.append((pin[0], pin[1]))\n",
    "\n",
    "        folium.Marker(\n",
    "            location=[pin[0], pin[1]],\n",
    "            tooltip=location,\n",
    "            icon=folium.Icon(color=colors[location])\n",
    "        ).add_to(m)\n",
    "\n",
    "        folium.PolyLine(\n",
    "            locations=trail, \n",
    "            color=colors[location]\n",
    "        ).add_to(m)\n",
    "\n",
    "m.save('index.html')"
   ]
  }
 ],
 "metadata": {
  "kernelspec": {
   "display_name": "Python 3",
   "language": "python",
   "name": "python3"
  },
  "language_info": {
   "codemirror_mode": {
    "name": "ipython",
    "version": 3
   },
   "file_extension": ".py",
   "mimetype": "text/x-python",
   "name": "python",
   "nbconvert_exporter": "python",
   "pygments_lexer": "ipython3",
   "version": "3.9.6"
  }
 },
 "nbformat": 4,
 "nbformat_minor": 2
}
